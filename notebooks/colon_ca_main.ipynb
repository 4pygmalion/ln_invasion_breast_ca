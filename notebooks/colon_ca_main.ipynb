{
 "cells": [
  {
   "cell_type": "code",
   "execution_count": null,
   "metadata": {},
   "outputs": [],
   "source": [
    "%load_ext autoreload\n",
    "%autoreload 2"
   ]
  },
  {
   "cell_type": "code",
   "execution_count": null,
   "metadata": {},
   "outputs": [],
   "source": [
    "import os\n",
    "import sys\n",
    "import shutil\n",
    "import numpy as np\n",
    "import pandas as pd\n",
    "import tensorflow as tf\n",
    "from PIL import Image\n",
    "from sklearn.model_selection import train_test_split\n",
    "\n",
    "NOTEBOOK_DIR = os.getcwd()\n",
    "ROOT_DIR = os.path.dirname(NOTEBOOK_DIR)\n",
    "sys.path.append(ROOT_DIR)\n",
    "from models.attention_mil import build_model\n",
    "from load_data import get_patches_path, data_generate_resize\n",
    "\n",
    "DATA_DIR = os.path.join(ROOT_DIR, \"data\", \"colon_ca\")\n",
    "PATCH_WIDTH = 27\n",
    "PATCH_SHAPE = (PATCH_WIDTH, PATCH_WIDTH, 3)\n",
    "BATCH_SIZE = 1\n",
    "\n",
    "CHANGED_SHAPE = (32, 32, 3)"
   ]
  },
  {
   "cell_type": "code",
   "execution_count": null,
   "metadata": {},
   "outputs": [],
   "source": [
    "positive_bag_names = set(os.listdir(os.path.join(DATA_DIR, \"1\")))\n",
    "negative_bag_names = set(os.listdir(os.path.join(DATA_DIR, \"0\")))\n",
    "\n",
    "bag_names = positive_bag_names | negative_bag_names\n",
    "\n",
    "patch_dir = os.path.join(DATA_DIR, \"patch\")\n",
    "if not os.path.exists(patch_dir):\n",
    "    os.mkdir(patch_dir)\n",
    "\n",
    "    for bag_name in bag_names:\n",
    "        shutil.copy(os.path.join(DATA_DIR, \"1\", bag_name), os.path.join(patch_dir, bag_name))"
   ]
  },
  {
   "cell_type": "code",
   "execution_count": null,
   "metadata": {},
   "outputs": [],
   "source": [
    "labels = [1 if bag_name in positive_bag_names else 0 for bag_name in bag_names]\n",
    "patch_bags = get_patches_path(patch_dir)\n",
    "\n",
    "(\n",
    "    train_bag_names,\n",
    "    val_bag_names,\n",
    "    train_y,\n",
    "    val_y,\n",
    "    train_bags,\n",
    "    val_bags,\n",
    ") = train_test_split(\n",
    "    list(bag_names), labels, patch_bags\n",
    ")"
   ]
  },
  {
   "cell_type": "code",
   "execution_count": null,
   "metadata": {},
   "outputs": [],
   "source": [
    "train_dataset = tf.data.Dataset.from_generator(\n",
    "        generator=data_generate_resize,\n",
    "        output_types=(tf.float32, tf.float32),\n",
    "        output_shapes=(\n",
    "            tf.TensorShape([None, *CHANGED_SHAPE]),\n",
    "            tf.TensorShape([1, 1]),\n",
    "        ),\n",
    "        args=(train_bag_names, train_y, train_bags),\n",
    "    )\n",
    "\n",
    "val_dataset = tf.data.Dataset.from_generator(\n",
    "    generator=data_generate_resize,\n",
    "    output_types=(tf.float32, tf.float32),\n",
    "    output_shapes=(\n",
    "        tf.TensorShape([None, *CHANGED_SHAPE]),\n",
    "        tf.TensorShape([1, 1]),\n",
    "    ),\n",
    "    args=(val_bag_names, val_y, val_bags),\n",
    ")"
   ]
  },
  {
   "cell_type": "code",
   "execution_count": null,
   "metadata": {},
   "outputs": [],
   "source": [
    "base_model = tf.keras.applications.vgg16.VGG16(\n",
    "    input_shape=CHANGED_SHAPE, \n",
    "    include_top=False, \n",
    "    weights=\"imagenet\", \n",
    ")\n",
    "model = build_model(input_dim=CHANGED_SHAPE, base_model=base_model)\n",
    "print(model.input_shape, model.output_shape)"
   ]
  },
  {
   "cell_type": "code",
   "execution_count": null,
   "metadata": {},
   "outputs": [],
   "source": [
    "os.makedirs(\"check_points\", exist_ok=True)\n",
    "model_name = (\n",
    "        \"check_points/\"\n",
    "        + \"acc({accuracy:.4f})\"\n",
    "        + \"epoch({epoch})\"\n",
    "        + \"val_loss({val_loss:.4f}).hd5\"\n",
    "    )\n",
    "\n",
    "check_point = tf.keras.callbacks.ModelCheckpoint(\n",
    "    model_name,\n",
    "    monitor=\"val_loss\",\n",
    "    verbose=1,\n",
    "    save_best_only=True,\n",
    "    save_weights_only=True,\n",
    "    mode=\"min\",\n",
    ")\n",
    "early_stopping = tf.keras.callbacks.EarlyStopping(\n",
    "    monitor=\"val_loss\", patience=5\n",
    ")\n",
    "reduce_lr = tf.keras.callbacks.ReduceLROnPlateau(\n",
    "    monitor=\"val_loss\",\n",
    "    factor=0.2,  # (=decay)\n",
    "    verbose=True,\n",
    ")\n",
    "callbacks = [check_point, early_stopping, reduce_lr]\n",
    "\n",
    "model.compile(\n",
    "    optimizer=tf.keras.optimizers.Adam(0.001),\n",
    "    loss=tf.keras.losses.BinaryCrossentropy(from_logits=False),\n",
    "    metrics=[\"accuracy\"],\n",
    ")\n",
    "\n",
    "model.fit(\n",
    "    train_dataset.repeat(),\n",
    "    validation_data=val_dataset.repeat(),\n",
    "    callbacks=callbacks,\n",
    "    epochs=100,\n",
    "    steps_per_epoch=int(len(train_bag_names) / BATCH_SIZE),\n",
    "    validation_steps=int(len(val_bag_names) / BATCH_SIZE),\n",
    ")"
   ]
  }
 ],
 "metadata": {
  "kernelspec": {
   "display_name": "Python 3.7.13 ('breast')",
   "language": "python",
   "name": "python3"
  },
  "language_info": {
   "codemirror_mode": {
    "name": "ipython",
    "version": 3
   },
   "file_extension": ".py",
   "mimetype": "text/x-python",
   "name": "python",
   "nbconvert_exporter": "python",
   "pygments_lexer": "ipython3",
   "version": "3.7.13"
  },
  "orig_nbformat": 4,
  "vscode": {
   "interpreter": {
    "hash": "5416d1d2d283e47e38bff8a971e953fd3db1dda75b1e0a455953dc514b6bf7e3"
   }
  }
 },
 "nbformat": 4,
 "nbformat_minor": 2
}

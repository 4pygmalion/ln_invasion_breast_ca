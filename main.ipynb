{
 "cells": [
  {
   "cell_type": "code",
   "execution_count": null,
   "metadata": {},
   "outputs": [],
   "source": [
    "%load_ext autoreload\n",
    "%autoreload 2"
   ]
  },
  {
   "cell_type": "code",
   "execution_count": 62,
   "metadata": {},
   "outputs": [],
   "source": [
    "import numpy as np\n",
    "from model import build_model\n",
    "from load_data import get_patches\n",
    "\n",
    "original_patch_path_mapping = get_patches(\"data/Patches/PatchImage/\")\n",
    "\n",
    "PATCH_SHAPE = (224, 224, 3)"
   ]
  },
  {
   "cell_type": "code",
   "execution_count": 73,
   "metadata": {},
   "outputs": [],
   "source": [
    "import pandas as pd\n",
    "\n",
    "COLS = [\"ID\", \"img_path\", \"N_category\"]\n",
    "clinical_array = pd.read_csv(\"data/train.csv\")[COLS].values"
   ]
  },
  {
   "cell_type": "code",
   "execution_count": 66,
   "metadata": {},
   "outputs": [
    {
     "name": "stdout",
     "output_type": "stream",
     "text": [
      "Model: \"model_4\"\n",
      "__________________________________________________________________________________________________\n",
      " Layer (type)                   Output Shape         Param #     Connected to                     \n",
      "==================================================================================================\n",
      " input (InputLayer)             [(None, 224, 224, 3  0           []                               \n",
      "                                )]                                                                \n",
      "                                                                                                  \n",
      " conv2d_10 (Conv2D)             (None, 221, 221, 36  1764        ['input[0][0]']                  \n",
      "                                )                                                                 \n",
      "                                                                                                  \n",
      " max_pooling2d_10 (MaxPooling2D  (None, 110, 110, 36  0          ['conv2d_10[0][0]']              \n",
      " )                              )                                                                 \n",
      "                                                                                                  \n",
      " conv2d_11 (Conv2D)             (None, 108, 108, 48  15600       ['max_pooling2d_10[0][0]']       \n",
      "                                )                                                                 \n",
      "                                                                                                  \n",
      " max_pooling2d_11 (MaxPooling2D  (None, 54, 54, 48)  0           ['conv2d_11[0][0]']              \n",
      " )                                                                                                \n",
      "                                                                                                  \n",
      " flatten_5 (Flatten)            (None, 139968)       0           ['max_pooling2d_11[0][0]']       \n",
      "                                                                                                  \n",
      " fc1 (Dense)                    (None, 512)          71664128    ['flatten_5[0][0]']              \n",
      "                                                                                                  \n",
      " dropout_10 (Dropout)           (None, 512)          0           ['fc1[0][0]']                    \n",
      "                                                                                                  \n",
      " fc2 (Dense)                    (None, 512)          262656      ['dropout_10[0][0]']             \n",
      "                                                                                                  \n",
      " dropout_11 (Dropout)           (None, 512)          0           ['fc2[0][0]']                    \n",
      "                                                                                                  \n",
      " alpha (MILAttention)           (None, 1)            131200      ['dropout_11[0][0]']             \n",
      "                                                                                                  \n",
      " multiply_4 (Multiply)          (None, 512)          0           ['alpha[0][0]',                  \n",
      "                                                                  'dropout_11[0][0]']             \n",
      "                                                                                                  \n",
      " FC1_sigmoid (MILSigmoid)       (1, 1)               513         ['multiply_4[0][0]']             \n",
      "                                                                                                  \n",
      "==================================================================================================\n",
      "Total params: 72,075,861\n",
      "Trainable params: 72,075,861\n",
      "Non-trainable params: 0\n",
      "__________________________________________________________________________________________________\n"
     ]
    }
   ],
   "source": [
    "model = build_model(PATCH_SHAPE)\n",
    "model.summary()"
   ]
  },
  {
   "cell_type": "code",
   "execution_count": null,
   "metadata": {},
   "outputs": [],
   "source": [
    "# Call back setting"
   ]
  },
  {
   "cell_type": "code",
   "execution_count": null,
   "metadata": {},
   "outputs": [],
   "source": [
    "# Generator\n",
    "model_train_set, model_val_set = Get_train_valid_Path(train_set, train_percentage=0.9)\n",
    "train_gen = DataGenerator(batch_size=1, shuffle=True).generate(model_train_set)"
   ]
  },
  {
   "cell_type": "code",
   "execution_count": null,
   "metadata": {},
   "outputs": [],
   "source": [
    "model.fit_generator(\n",
    "    generator=train_gen, \n",
    "    steps_per_epoch=len(model_train_set)//batch_size,\n",
    "    epochs=args.max_epoch,\n",
    "    validation_data=val_gen,\n",
    "    validation_steps=len(model_val_set)//batch_size, \n",
    "    callbacks=callbacks\n",
    ")"
   ]
  }
 ],
 "metadata": {
  "kernelspec": {
   "display_name": "Python 3.7.13 ('breast')",
   "language": "python",
   "name": "python3"
  },
  "language_info": {
   "codemirror_mode": {
    "name": "ipython",
    "version": 3
   },
   "file_extension": ".py",
   "mimetype": "text/x-python",
   "name": "python",
   "nbconvert_exporter": "python",
   "pygments_lexer": "ipython3",
   "version": "3.7.13"
  },
  "orig_nbformat": 4,
  "vscode": {
   "interpreter": {
    "hash": "5416d1d2d283e47e38bff8a971e953fd3db1dda75b1e0a455953dc514b6bf7e3"
   }
  }
 },
 "nbformat": 4,
 "nbformat_minor": 2
}

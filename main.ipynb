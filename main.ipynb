{
 "cells": [
  {
   "cell_type": "code",
   "execution_count": 6,
   "metadata": {},
   "outputs": [
    {
     "name": "stdout",
     "output_type": "stream",
     "text": [
      "The autoreload extension is already loaded. To reload it, use:\n",
      "  %reload_ext autoreload\n"
     ]
    }
   ],
   "source": [
    "%load_ext autoreload\n",
    "%autoreload 2"
   ]
  },
  {
   "cell_type": "code",
   "execution_count": 7,
   "metadata": {},
   "outputs": [],
   "source": [
    "import numpy as np\n",
    "import pandas as pd\n",
    "import tensorflow as tf\n",
    "from PIL import Image\n",
    "\n",
    "from model import build_model\n",
    "from load_data import get_patches, data_generate\n",
    "\n",
    "PATCH_SHAPE = (224, 224, 3)\n",
    "\n",
    "clinical_data = pd.read_csv(\"data/train.csv\")\n",
    "\n",
    "bag_names = list(clinical_data[\"ID\"])\n",
    "labels = list(clinical_data[\"N_category\"])\n",
    "patch_bags = get_patches(\"data/train_imgs_patch\")"
   ]
  },
  {
   "cell_type": "code",
   "execution_count": 8,
   "metadata": {},
   "outputs": [],
   "source": [
    "from sklearn.model_selection import train_test_split"
   ]
  },
  {
   "cell_type": "code",
   "execution_count": 9,
   "metadata": {},
   "outputs": [],
   "source": [
    "train_bag_names, val_bag_names, train_y, val_y, train_bags, val_bags = train_test_split(bag_names, labels, patch_bags)"
   ]
  },
  {
   "cell_type": "code",
   "execution_count": 10,
   "metadata": {},
   "outputs": [],
   "source": [
    "train_dataset = tf.data.Dataset.from_generator(\n",
    "    generator=data_generate,\n",
    "    output_types=(tf.float32, tf.float32),\n",
    "    output_shapes=(tf.TensorShape([224, 224, 3]), tf.TensorShape([])),\n",
    "    args=(train_bag_names, train_y, train_bags)\n",
    ")\n",
    "\n",
    "val_dataset = tf.data.Dataset.from_generator(\n",
    "    generator=data_generate,\n",
    "    output_types=(tf.float32, tf.float32),\n",
    "    output_shapes=(tf.TensorShape([224, 224, 3]), tf.TensorShape([])),\n",
    "    args=(val_bag_names, val_y, val_bags)\n",
    ")\n",
    "\n",
    "\n",
    "train_dataset = train_dataset.batch(100)\n",
    "val_dataset = val_dataset.batch(5)"
   ]
  },
  {
   "cell_type": "code",
   "execution_count": 11,
   "metadata": {},
   "outputs": [],
   "source": [
    "model = build_model(PATCH_SHAPE)"
   ]
  },
  {
   "cell_type": "code",
   "execution_count": 12,
   "metadata": {},
   "outputs": [],
   "source": [
    "from loss import bag_loss, bag_accuracy\n",
    "model.compile(\n",
    "    optimizer=tf.keras.optimizers.Adam(), loss=bag_loss, metrics=[bag_accuracy]\n",
    ")"
   ]
  },
  {
   "cell_type": "code",
   "execution_count": 13,
   "metadata": {},
   "outputs": [
    {
     "name": "stdout",
     "output_type": "stream",
     "text": [
      "    104/Unknown - 396s 4s/step - loss: 4.4619 - bag_accuracy: 0.6635"
     ]
    }
   ],
   "source": [
    "model.fit(\n",
    "    train_dataset,\n",
    "    validation_data=val_dataset\n",
    ")"
   ]
  }
 ],
 "metadata": {
  "kernelspec": {
   "display_name": "Python 3.7.13 ('breast')",
   "language": "python",
   "name": "python3"
  },
  "language_info": {
   "codemirror_mode": {
    "name": "ipython",
    "version": 3
   },
   "file_extension": ".py",
   "mimetype": "text/x-python",
   "name": "python",
   "nbconvert_exporter": "python",
   "pygments_lexer": "ipython3",
   "version": "3.7.13"
  },
  "orig_nbformat": 4,
  "vscode": {
   "interpreter": {
    "hash": "5416d1d2d283e47e38bff8a971e953fd3db1dda75b1e0a455953dc514b6bf7e3"
   }
  }
 },
 "nbformat": 4,
 "nbformat_minor": 2
}

{
 "cells": [
  {
   "cell_type": "code",
   "execution_count": 39,
   "metadata": {},
   "outputs": [
    {
     "name": "stdout",
     "output_type": "stream",
     "text": [
      "The autoreload extension is already loaded. To reload it, use:\n",
      "  %reload_ext autoreload\n"
     ]
    }
   ],
   "source": [
    "%load_ext autoreload\n",
    "%autoreload 2"
   ]
  },
  {
   "cell_type": "code",
   "execution_count": 40,
   "metadata": {},
   "outputs": [],
   "source": [
    "import os\n",
    "import sys\n",
    "import shutil\n",
    "import numpy as np\n",
    "import pandas as pd\n",
    "import tensorflow as tf\n",
    "from PIL import Image\n",
    "from sklearn.model_selection import train_test_split\n",
    "\n",
    "NOTEBOOK_DIR = os.getcwd()\n",
    "ROOT_DIR = os.path.dirname(NOTEBOOK_DIR)\n",
    "sys.path.append(ROOT_DIR)\n",
    "from models.noisy_and_mil import build_model\n",
    "from load_data import get_patches_path, data_generate\n",
    "\n",
    "DATA_DIR = os.path.join(ROOT_DIR, \"data\", \"colon_ca\")\n",
    "PATCH_WIDTH = 27\n",
    "PATCH_SHAPE = (PATCH_WIDTH, PATCH_WIDTH, 3)\n",
    "BATCH_SIZE = 1"
   ]
  },
  {
   "cell_type": "code",
   "execution_count": 41,
   "metadata": {},
   "outputs": [],
   "source": [
    "positive_bag_names = set(os.listdir(os.path.join(DATA_DIR, \"1\")))\n",
    "negative_bag_names = set(os.listdir(os.path.join(DATA_DIR, \"0\")))\n",
    "\n",
    "bag_names = positive_bag_names | negative_bag_names\n",
    "\n",
    "patch_dir = os.path.join(DATA_DIR, \"patch\")\n",
    "if not os.path.exists(patch_dir):\n",
    "    os.mkdir(patch_dir)\n",
    "\n",
    "    for bag_name in bag_names:\n",
    "        shutil.copy(os.path.join(DATA_DIR, \"1\", bag_name), os.path.join(patch_dir, bag_name))"
   ]
  },
  {
   "cell_type": "code",
   "execution_count": 42,
   "metadata": {},
   "outputs": [],
   "source": [
    "labels = [1 if bag_name in positive_bag_names else 0 for bag_name in bag_names]\n",
    "patch_bags = get_patches_path(patch_dir)\n",
    "\n",
    "(\n",
    "    train_bag_names,\n",
    "    val_bag_names,\n",
    "    train_y,\n",
    "    val_y,\n",
    "    train_bags,\n",
    "    val_bags,\n",
    ") = train_test_split(\n",
    "    list(bag_names), labels, patch_bags\n",
    ")"
   ]
  },
  {
   "cell_type": "code",
   "execution_count": 43,
   "metadata": {},
   "outputs": [],
   "source": [
    "train_dataset = tf.data.Dataset.from_generator(\n",
    "        generator=data_generate,\n",
    "        output_types=(tf.float32, tf.float32),\n",
    "        output_shapes=(\n",
    "            tf.TensorShape([None, PATCH_WIDTH, PATCH_WIDTH, 3]),\n",
    "            tf.TensorShape([1, 1]),\n",
    "        ),\n",
    "        args=(train_bag_names, train_y, train_bags),\n",
    "    )\n",
    "\n",
    "val_dataset = tf.data.Dataset.from_generator(\n",
    "    generator=data_generate,\n",
    "    output_types=(tf.float32, tf.float32),\n",
    "    output_shapes=(\n",
    "        tf.TensorShape([None, PATCH_WIDTH, PATCH_WIDTH, 3]),\n",
    "        tf.TensorShape([1, 1]),\n",
    "    ),\n",
    "    args=(val_bag_names, val_y, val_bags),\n",
    ")"
   ]
  },
  {
   "cell_type": "code",
   "execution_count": 48,
   "metadata": {},
   "outputs": [
    {
     "name": "stdout",
     "output_type": "stream",
     "text": [
      "Model: \"sequential_26\"\n",
      "_________________________________________________________________\n",
      " Layer (type)                Output Shape              Param #   \n",
      "=================================================================\n",
      " conv2d_106 (Conv2D)         (None, 26, 26, 32)        416       \n",
      "                                                                 \n",
      " conv2d_107 (Conv2D)         (None, 25, 25, 64)        8256      \n",
      "                                                                 \n",
      " conv2d_108 (Conv2D)         (None, 24, 24, 128)       32896     \n",
      "                                                                 \n",
      " conv2d_109 (Conv2D)         (None, 23, 23, 1000)      513000    \n",
      "                                                                 \n",
      " conv2d_110 (Conv2D)         (None, 23, 23, 2)         2002      \n",
      "                                                                 \n",
      " noisy_and_17 (NoisyAnd)     (None, 2)                 2         \n",
      "                                                                 \n",
      " dense_17 (Dense)            (None, 2)                 6         \n",
      "                                                                 \n",
      " pooling_sigmoid_12 (Pooling  (1, 1)                   3         \n",
      " Sigmoid)                                                        \n",
      "                                                                 \n",
      "=================================================================\n",
      "Total params: 556,581\n",
      "Trainable params: 556,581\n",
      "Non-trainable params: 0\n",
      "_________________________________________________________________\n"
     ]
    }
   ],
   "source": [
    "model = build_model(input_shape=(27, 27, 3), n_classes=2)\n",
    "model.summary()"
   ]
  },
  {
   "cell_type": "code",
   "execution_count": 49,
   "metadata": {},
   "outputs": [
    {
     "name": "stdout",
     "output_type": "stream",
     "text": [
      "Epoch 1/100\n",
      "74/74 [==============================] - ETA: 0s - loss: 16.5238 - accuracy: 0.4865\n",
      "Epoch 1: val_loss improved from inf to 15.57825, saving model to check_points\\acc(0.4865)epoch(1)val_loss(15.5783).hd5\n"
     ]
    },
    {
     "ename": "AttributeError",
     "evalue": "'NoneType' object has no attribute 'replace'",
     "output_type": "error",
     "traceback": [
      "\u001b[1;31m---------------------------------------------------------------------------\u001b[0m",
      "\u001b[1;31mAttributeError\u001b[0m                            Traceback (most recent call last)",
      "\u001b[1;32m~\\AppData\\Local\\Temp\\ipykernel_15684\\994815857.py\u001b[0m in \u001b[0;36m<module>\u001b[1;34m\u001b[0m\n\u001b[0;32m     37\u001b[0m     \u001b[0mepochs\u001b[0m\u001b[1;33m=\u001b[0m\u001b[1;36m100\u001b[0m\u001b[1;33m,\u001b[0m\u001b[1;33m\u001b[0m\u001b[1;33m\u001b[0m\u001b[0m\n\u001b[0;32m     38\u001b[0m     \u001b[0msteps_per_epoch\u001b[0m\u001b[1;33m=\u001b[0m\u001b[0mint\u001b[0m\u001b[1;33m(\u001b[0m\u001b[0mlen\u001b[0m\u001b[1;33m(\u001b[0m\u001b[0mtrain_bag_names\u001b[0m\u001b[1;33m)\u001b[0m \u001b[1;33m/\u001b[0m \u001b[0mBATCH_SIZE\u001b[0m\u001b[1;33m)\u001b[0m\u001b[1;33m,\u001b[0m\u001b[1;33m\u001b[0m\u001b[1;33m\u001b[0m\u001b[0m\n\u001b[1;32m---> 39\u001b[1;33m     \u001b[0mvalidation_steps\u001b[0m\u001b[1;33m=\u001b[0m\u001b[0mint\u001b[0m\u001b[1;33m(\u001b[0m\u001b[0mlen\u001b[0m\u001b[1;33m(\u001b[0m\u001b[0mval_bag_names\u001b[0m\u001b[1;33m)\u001b[0m \u001b[1;33m/\u001b[0m \u001b[0mBATCH_SIZE\u001b[0m\u001b[1;33m)\u001b[0m\u001b[1;33m,\u001b[0m\u001b[1;33m\u001b[0m\u001b[1;33m\u001b[0m\u001b[0m\n\u001b[0m\u001b[0;32m     40\u001b[0m )\n",
      "\u001b[1;32mc:\\Users\\4pygm\\miniconda3\\envs\\breast\\lib\\site-packages\\keras\\utils\\traceback_utils.py\u001b[0m in \u001b[0;36merror_handler\u001b[1;34m(*args, **kwargs)\u001b[0m\n\u001b[0;32m     68\u001b[0m             \u001b[1;31m# To get the full stack trace, call:\u001b[0m\u001b[1;33m\u001b[0m\u001b[1;33m\u001b[0m\u001b[1;33m\u001b[0m\u001b[0m\n\u001b[0;32m     69\u001b[0m             \u001b[1;31m# `tf.debugging.disable_traceback_filtering()`\u001b[0m\u001b[1;33m\u001b[0m\u001b[1;33m\u001b[0m\u001b[1;33m\u001b[0m\u001b[0m\n\u001b[1;32m---> 70\u001b[1;33m             \u001b[1;32mraise\u001b[0m \u001b[0me\u001b[0m\u001b[1;33m.\u001b[0m\u001b[0mwith_traceback\u001b[0m\u001b[1;33m(\u001b[0m\u001b[0mfiltered_tb\u001b[0m\u001b[1;33m)\u001b[0m \u001b[1;32mfrom\u001b[0m \u001b[1;32mNone\u001b[0m\u001b[1;33m\u001b[0m\u001b[1;33m\u001b[0m\u001b[0m\n\u001b[0m\u001b[0;32m     71\u001b[0m         \u001b[1;32mfinally\u001b[0m\u001b[1;33m:\u001b[0m\u001b[1;33m\u001b[0m\u001b[1;33m\u001b[0m\u001b[0m\n\u001b[0;32m     72\u001b[0m             \u001b[1;32mdel\u001b[0m \u001b[0mfiltered_tb\u001b[0m\u001b[1;33m\u001b[0m\u001b[1;33m\u001b[0m\u001b[0m\n",
      "\u001b[1;32mc:\\Users\\4pygm\\miniconda3\\envs\\breast\\lib\\site-packages\\tensorflow\\python\\trackable\\trackable_utils.py\u001b[0m in \u001b[0;36mescape_local_name\u001b[1;34m(name)\u001b[0m\n\u001b[0;32m    124\u001b[0m   \u001b[1;31m# edges traversed to reach the variable, so we escape forward slashes in\u001b[0m\u001b[1;33m\u001b[0m\u001b[1;33m\u001b[0m\u001b[1;33m\u001b[0m\u001b[0m\n\u001b[0;32m    125\u001b[0m   \u001b[1;31m# names.\u001b[0m\u001b[1;33m\u001b[0m\u001b[1;33m\u001b[0m\u001b[1;33m\u001b[0m\u001b[0m\n\u001b[1;32m--> 126\u001b[1;33m   return (name.replace(_ESCAPE_CHAR, _ESCAPE_CHAR + _ESCAPE_CHAR).replace(\n\u001b[0m\u001b[0;32m    127\u001b[0m       r\"/\", _ESCAPE_CHAR + \"S\"))\n\u001b[0;32m    128\u001b[0m \u001b[1;33m\u001b[0m\u001b[0m\n",
      "\u001b[1;31mAttributeError\u001b[0m: 'NoneType' object has no attribute 'replace'"
     ]
    }
   ],
   "source": [
    "os.makedirs(\"check_points\", exist_ok=True)\n",
    "model_name = (\n",
    "        \"check_points/\"\n",
    "        + \"acc({accuracy:.4f})\"\n",
    "        + \"val_loss({val_loss:.4f}).hd5\"\n",
    "    )\n",
    "\n",
    "check_point = tf.keras.callbacks.ModelCheckpoint(\n",
    "    model_name,\n",
    "    monitor=\"val_loss\",\n",
    "    verbose=1,\n",
    "    save_best_only=True,\n",
    "    save_weights_only=True,\n",
    "    mode=\"min\",\n",
    ")\n",
    "early_stopping = tf.keras.callbacks.EarlyStopping(\n",
    "    monitor=\"val_loss\", patience=10\n",
    ")\n",
    "reduce_lr = tf.keras.callbacks.ReduceLROnPlateau(\n",
    "    monitor=\"val_loss\",\n",
    "    factor=0.2,  # (=decay)\n",
    "    verbose=True,\n",
    ")\n",
    "callbacks = [check_point, early_stopping, reduce_lr]\n",
    "\n",
    "model.compile(\n",
    "    optimizer=tf.keras.optimizers.Adam(0.0001),\n",
    "    loss=tf.keras.losses.BinaryCrossentropy(from_logits=False),\n",
    "    metrics=[\"accuracy\"],\n",
    ")\n",
    "\n",
    "model.fit(\n",
    "    train_dataset.repeat(),\n",
    "    validation_data=val_dataset.repeat(),\n",
    "    callbacks=callbacks,\n",
    "    epochs=100,\n",
    "    steps_per_epoch=int(len(train_bag_names) / BATCH_SIZE),\n",
    "    validation_steps=int(len(val_bag_names) / BATCH_SIZE),\n",
    ")"
   ]
  }
 ],
 "metadata": {
  "kernelspec": {
   "display_name": "Python 3.7.13 ('breast')",
   "language": "python",
   "name": "python3"
  },
  "language_info": {
   "codemirror_mode": {
    "name": "ipython",
    "version": 3
   },
   "file_extension": ".py",
   "mimetype": "text/x-python",
   "name": "python",
   "nbconvert_exporter": "python",
   "pygments_lexer": "ipython3",
   "version": "3.7.13"
  },
  "orig_nbformat": 4,
  "vscode": {
   "interpreter": {
    "hash": "5416d1d2d283e47e38bff8a971e953fd3db1dda75b1e0a455953dc514b6bf7e3"
   }
  }
 },
 "nbformat": 4,
 "nbformat_minor": 2
}

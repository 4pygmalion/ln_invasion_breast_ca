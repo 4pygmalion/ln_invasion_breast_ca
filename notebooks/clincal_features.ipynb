{
 "cells": [
  {
   "cell_type": "code",
   "execution_count": null,
   "id": "ce7fb9d1",
   "metadata": {},
   "outputs": [],
   "source": [
    "import sklearn\n",
    "import numpy as np\n",
    "import pandas as pd\n",
    "from lazypredict.Supervised import LazyClassifier"
   ]
  },
  {
   "cell_type": "code",
   "execution_count": null,
   "id": "c56ef7f8",
   "metadata": {},
   "outputs": [],
   "source": [
    "train_clinical_df = pd.read_csv(\"data/train.csv\")\n",
    "\n",
    "features = ['암의 위치', \n",
    "    '암의 개수', \n",
    "    '암의 장경', 'NG', 'HG', 'HG_score_1', 'HG_score_2', 'HG_score_3',\n",
    "    'DCIS_or_LCIS_여부', 'DCIS_or_LCIS_type', 'T_category', 'ER',\n",
    "    'ER_Allred_score', 'PR', 'PR_Allred_score', 'KI-67_LI_percent',\n",
    "    'HER2',\n",
    "    'HER2_IHC', \n",
    "    'HER2_SISH', \n",
    "    'HER2_SISH_ratio', \n",
    "    'BRCA_mutation']\n",
    "x, y = train_clinical_df[features], train_clinical_df[\"N_category\"]"
   ]
  },
  {
   "cell_type": "code",
   "execution_count": null,
   "id": "68088887",
   "metadata": {},
   "outputs": [],
   "source": [
    "imp = sklearn.impute.SimpleImputer(missing_values=np.nan, strategy='mean')\n",
    "imp.fit(x, y)\n",
    "x_imput = imp.transform(x)"
   ]
  },
  {
   "cell_type": "code",
   "execution_count": null,
   "id": "7170eae1",
   "metadata": {},
   "outputs": [],
   "source": [
    "x_train, x_val, y_train, y_val = sklearn.model_selection.train_test_split(x_imput, y, train_size=0.7)\n",
    "\n",
    "lazy_clf = LazyClassifier(verbose=0, predictions=True)\n",
    "models, predictions = lazy_clf.fit(X_train=x_train, X_test=x_val, y_train=y_train, y_test=y_val)"
   ]
  },
  {
   "cell_type": "code",
   "execution_count": null,
   "id": "6ee836d2",
   "metadata": {},
   "outputs": [],
   "source": [
    "test_clinical_df = pd.read_csv(\"data/test.csv\")\n",
    "x_test_imput = imp.transform(test_clinical_df[features])\n",
    "y_hat = lazy_clf.models[\"XGBClassifier\"].predict(x_test_imput)"
   ]
  },
  {
   "cell_type": "code",
   "execution_count": null,
   "id": "3711471c",
   "metadata": {},
   "outputs": [],
   "source": [
    "submission = pd.read_csv(\"data/sample_submission.csv\")\n",
    "submission[\"N_category\"] = y_hat\n",
    "submission.to_csv(\"submit.csv\", index=False)"
   ]
  }
 ],
 "metadata": {
  "kernelspec": {
   "display_name": "Python 3.7.13 ('breast')",
   "language": "python",
   "name": "python3"
  },
  "language_info": {
   "codemirror_mode": {
    "name": "ipython",
    "version": 3
   },
   "file_extension": ".py",
   "mimetype": "text/x-python",
   "name": "python",
   "nbconvert_exporter": "python",
   "pygments_lexer": "ipython3",
   "version": "3.7.13"
  },
  "vscode": {
   "interpreter": {
    "hash": "5416d1d2d283e47e38bff8a971e953fd3db1dda75b1e0a455953dc514b6bf7e3"
   }
  }
 },
 "nbformat": 4,
 "nbformat_minor": 5
}
